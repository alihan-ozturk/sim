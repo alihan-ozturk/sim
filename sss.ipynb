{
 "cells": [
  {
   "cell_type": "code",
   "execution_count": 1,
   "id": "195f7ec2-ffca-4f8f-8746-4ff893621b20",
   "metadata": {},
   "outputs": [],
   "source": [
    "import numpy as np\n",
    "import matplotlib.pyplot as plt\n",
    "from collections import deque\n",
    "from matplotlib import colors\n",
    "from IPython.display import clear_output\n",
    "import time\n",
    "from scipy.signal import convolve2d\n",
    "from scipy.ndimage import median_filter\n",
    "import math"
   ]
  },
  {
   "cell_type": "code",
   "execution_count": 166,
   "id": "3577d1e3-14f0-4265-bf42-7db5bfef5b6f",
   "metadata": {},
   "outputs": [],
   "source": [
    "class env:\n",
    "    def __init__(self, id, x_range, y_range):\n",
    "        self.id = id\n",
    "        self.cx, self.cy = (x_range[0]+x_range[1])/2, (y_range[0]+y_range[1])/2\n",
    "        self.r = min(abs(x_range[0]-x_range[1]), abs(y_range[0]-y_range[1]))\n",
    "\n",
    "    def forward(self, payload, u=None):\n",
    "        assert self.id == payload[\"takim_numarasi\"]\n",
    "        \n",
    "        if u is None:\n",
    "#             if (self.cx - payload[\"iha_enlem\"])> self.r or (self.cy - payload[\"iha_boylam\"])> self.r:\n",
    "#                 payload[\"iha_yonelme\"] += -180\n",
    "#             else:\n",
    "            payload[\"iha_yonelme\"] += np.random.randint(-20, 21)\n",
    "            rad = np.deg2rad(payload[\"iha_yonelme\"])\n",
    "        else:\n",
    "            \n",
    "            payload[\"iha_yonelme\"] = u\n",
    "            rad = np.deg2rad(u)\n",
    "            \n",
    "        \n",
    "        vx = abs(np.random.normal(0, 0.05))\n",
    "        vy = abs(np.random.normal(0, 0.05))\n",
    "        \n",
    "        payload[\"iha_enlem\"] += np.random.normal(0, 0.005) + vx * np.sin(rad)\n",
    "        payload[\"iha_boylam\"] += np.random.normal(0, 0.005)  + vy * np.cos(rad)\n",
    "        payload[\"iha_irtifa\"] += np.random.normal(0, 0.1)\n",
    "        \n",
    "        payload[\"iha_dikilme\"] += np.random.normal(0, 0.1)\n",
    "        payload[\"iha_yatis\"] += np.random.normal(0, 0.1)\n",
    "        \n",
    "        payload[\"zaman_farki\"] += np.random.normal(0, 0.1)\n",
    "        return payload"
   ]
  },
  {
   "cell_type": "code",
   "execution_count": 167,
   "id": "4af34c88-ad71-4871-be28-3d212ef9416e",
   "metadata": {},
   "outputs": [],
   "source": [
    "def plot_arrow(pos):\n",
    "    rad = np.deg2rad(pos[\"iha_yonelme\"])\n",
    "    arrow_end_x = pos[\"iha_enlem\"] + 0.1 * np.sin(rad)\n",
    "    arrow_end_y = pos[\"iha_boylam\"] + 0.1 * np.cos(rad)\n",
    "    plt.arrow(pos[\"iha_enlem\"], pos[\"iha_boylam\"], arrow_end_x - pos[\"iha_enlem\"], arrow_end_y - pos[\"iha_boylam\"], \n",
    "          head_width=0.03, head_length=0.05, fc='red', ec='red')\n",
    "\n",
    "def plot_text(your_pos, pos):\n",
    "    if your_pos[\"iha_irtifa\"] == pos[\"iha_irtifa\"]:\n",
    "        p = \"\"\n",
    "    elif your_pos[\"iha_irtifa\"] < pos[\"iha_irtifa\"]:\n",
    "        p = \" +\"\n",
    "    else:\n",
    "        p = \" -\"\n",
    "    plt.text(pos[\"iha_enlem\"], pos[\"iha_boylam\"], str(pos[\"takim_numarasi\"])+p)\n",
    "\n",
    "def plot_point(pos_array):\n",
    "    for pos in pos_array:\n",
    "        plt.plot(pos[0], pos[1], 'ro')\n",
    "\n",
    "def plot_line(pos_array):\n",
    "    pos_array = np.array(pos_array)\n",
    "    plt.plot(pos_array[:, 0], pos_array[:, 1])"
   ]
  },
  {
   "cell_type": "code",
   "execution_count": 168,
   "id": "bf80e43f-792a-4438-bc45-a30ff418ac63",
   "metadata": {},
   "outputs": [],
   "source": [
    "class generate_map:\n",
    "    \n",
    "    def __init__(self, id, lat_range, lon_range, points):\n",
    "        self.id = id\n",
    "        self.std_dev = 1\n",
    "        self.lat_range = lat_range\n",
    "        self.lon_range = lon_range\n",
    "        y = np.linspace(lat_range[0], lat_range[1], int((lat_range[1]-lat_range[0])/0.01))\n",
    "        x = np.linspace(lon_range[0], lon_range[1], int((lon_range[1]-lon_range[0])/0.01))\n",
    "        \n",
    "        self.lat, self.lon = np.meshgrid(y, x)\n",
    "        self.contour = np.zeros(self.lat.shape)\n",
    "        self.cache = dict()\n",
    "\n",
    "        n = 30\n",
    "        for i in range(n):\n",
    "            self.contour[i, i:-i-1] = 10/(i+1)\n",
    "            self.contour[-(1+i), i:-i] = 10/(i+1)\n",
    "            self.contour[i:-i-1, i] = 10/(i+1)\n",
    "            self.contour[i:-i-1, -(1+i)] = 10/(i+1)\n",
    "        self.contour[-1] = 10\n",
    "        \n",
    "        \n",
    "        for (x, y) in points:\n",
    "            self.contour += np.exp(-((self.lat-x)**2 + (self.lon-y)**2) / (2 * self.std_dev))\n",
    "\n",
    "        self.contour = np.clip(self.contour, -1, 1)\n",
    "\n",
    "\n",
    "\n",
    "    def update(self, telem):\n",
    "        contour = self.contour.copy()\n",
    "        for pos in telem[\"konumBilgileri\"]:\n",
    "            self.history(pos)\n",
    "            if pos[\"takim_numarasi\"] != self.id:\n",
    "                contour -= np.exp(-((self.lat-pos[\"iha_enlem\"])**2 + (self.lon-pos[\"iha_boylam\"])**2) / (2 * self.std_dev/2)) \n",
    "            else:\n",
    "                your_pos = pos\n",
    "        return contour, your_pos\n",
    "\n",
    "    def history(self, pos):\n",
    "        if pos[\"takim_numarasi\"] not in self.cache:\n",
    "            self.cache[pos[\"takim_numarasi\"]] = deque([[pos[\"iha_enlem\"], pos[\"iha_boylam\"]]], maxlen=10)\n",
    "        else:\n",
    "            self.cache[pos[\"takim_numarasi\"]].append([pos[\"iha_enlem\"], pos[\"iha_boylam\"]])"
   ]
  },
  {
   "cell_type": "code",
   "execution_count": 169,
   "id": "e5c94c71-1e0f-4e1c-a9d4-b8c70d3aa8d0",
   "metadata": {},
   "outputs": [],
   "source": [
    "def is_within_trim_distance(pos1, pos2, trim):\n",
    "    return abs(pos2[\"iha_enlem\"] - pos1[\"iha_enlem\"]) < trim and abs(pos2[\"iha_boylam\"] - pos1[\"iha_boylam\"]) < trim\n",
    "\n",
    "def is_within_test_range(pos, lat_range, lon_range):\n",
    "    return lat_range[0] < pos[\"iha_enlem\"] < lat_range[1] and lon_range[0] < pos[\"iha_boylam\"] < lon_range[1]\n",
    "\n",
    "def should_plot(pos, your_pos, env, trim):\n",
    "    within_trim_distance = trim != 0 and is_within_trim_distance(pos, your_pos, trim)\n",
    "    within_test_range = trim == 0 and is_within_test_range(pos, env.lat_range, env.lon_range)\n",
    "    return within_test_range or within_trim_distance"
   ]
  },
  {
   "cell_type": "code",
   "execution_count": null,
   "id": "045f3115-ef5a-4661-ad93-48c9fdc770ca",
   "metadata": {},
   "outputs": [
    {
     "data": {
      "image/png": "[encoded data removed]",
      "text/plain": [
       "<Figure size 1000x600 with 2 Axes>"
      ]
     },
     "metadata": {},
     "output_type": "display_data"
    }
   ],
   "source": [
    "\n",
    "\n",
    "x_range = [39, 44]\n",
    "y_range = [25, 28]\n",
    "\n",
    "uav1 = env(1, x_range, y_range)\n",
    "uav2 = env(2, x_range, y_range)\n",
    "uav3 = env(3, x_range, y_range)\n",
    "uav4 = env(4, x_range, y_range)\n",
    "\n",
    "payload1 = {\n",
    "            \"takim_numarasi\": 1,\n",
    "            \"iha_enlem\": np.random.uniform(*x_range),\n",
    "            \"iha_boylam\": np.random.uniform(*y_range),\n",
    "            \"iha_irtifa\": 25,\n",
    "            \"iha_dikilme\": 200,\n",
    "            \"iha_yonelme\": 270,\n",
    "            \"iha_yatis\": 0,\n",
    "            \"zaman_farki\": 93\n",
    "        }\n",
    "\n",
    "\n",
    "payload2 = {\n",
    "            \"takim_numarasi\": 2,\n",
    "            \"iha_enlem\": np.random.uniform(*x_range),\n",
    "            \"iha_boylam\": np.random.uniform(*y_range),\n",
    "            \"iha_irtifa\": 25,\n",
    "            \"iha_dikilme\": 0,\n",
    "            \"iha_yonelme\": 90,\n",
    "            \"iha_yatis\": 0,\n",
    "            \"zaman_farki\": 74\n",
    "        }\n",
    "\n",
    "\n",
    "payload3 = {\n",
    "            \"takim_numarasi\": 3,\n",
    "            \"iha_enlem\": np.random.uniform(*x_range),\n",
    "            \"iha_boylam\": np.random.uniform(*y_range),\n",
    "            \"iha_irtifa\": 25,\n",
    "            \"iha_dikilme\": 5,\n",
    "            \"iha_yonelme\": 180,\n",
    "            \"iha_yatis\":4,\n",
    "            \"zaman_farki\": 43\n",
    "        }\n",
    "\n",
    "payload4 = {\n",
    "            \"takim_numarasi\": 4,\n",
    "            \"iha_enlem\": np.random.uniform(*x_range),\n",
    "            \"iha_boylam\": np.random.uniform(*y_range),\n",
    "            \"iha_irtifa\": 28,\n",
    "            \"iha_dikilme\": 5,\n",
    "            \"iha_yonelme\": 180,\n",
    "            \"iha_yatis\":4,\n",
    "            \"zaman_farki\": 43\n",
    "        }\n",
    "\n",
    "test = generate_map(1, [39, 44], [25, 28], [(40.5, 25)])\n",
    "trim = 0\n",
    "u = 0\n",
    "\n",
    "kernel = np.array([[-1, -2, 1], [0, 0, 0], [1, 2, 1]])\n",
    "for i in range(1000):\n",
    "    payload1 = uav1.forward(payload1, u)\n",
    "    payload2 = uav2.forward(payload2)\n",
    "    payload3 = uav3.forward(payload3)\n",
    "    payload4 = uav4.forward(payload4)\n",
    "    \n",
    "    \n",
    "    telem = {\"sunucuSaati\": {\n",
    "        \"saat\": 6,\n",
    "        \"dakika\": 53,\n",
    "        \"saniye\": 42,\n",
    "        \"milisaniye\": 500\n",
    "    }, \"konumBilgileri\" : [payload1, payload2, payload3, payload4]}\n",
    "\n",
    "    \n",
    "    contour, your_pos = test.update(telem)\n",
    "    ind = pos_to_ind(test.lon, test.lat, your_pos)\n",
    "    u = gradient_descent(contour, ind, 10, 3)\n",
    "    \n",
    "    clear_output(wait=True)\n",
    "    \n",
    "    plt.figure(figsize=((np.array(contour.shape[::-1])//50).tolist()))\n",
    "    cp = plt.contourf(test.lat, test.lon, contour, cmap='coolwarm', levels=25)\n",
    "    plt.colorbar(cp)\n",
    "    for pos in telem[\"konumBilgileri\"]:\n",
    "        if should_plot(pos, your_pos, test, trim):\n",
    "            plot_text(your_pos, pos)\n",
    "            plot_line(test.cache[pos[\"takim_numarasi\"]])\n",
    "            plot_arrow(pos)\n",
    "    if trim:\n",
    "        plt.xlim(your_pos[\"iha_enlem\"]-trim, your_pos[\"iha_enlem\"]+trim)\n",
    "        plt.ylim(your_pos[\"iha_boylam\"]-trim, your_pos[\"iha_boylam\"]+trim)\n",
    "\n",
    "    plt.show()\n",
    "    time.sleep(1)"
   ]
  },
  {
   "cell_type": "code",
   "execution_count": 246,
   "id": "8dbcca95-c94b-44c4-9aea-591654bc2985",
   "metadata": {},
   "outputs": [
    {
     "data": {
      "text/plain": [
       "225"
      ]
     },
     "execution_count": 246,
     "metadata": {},
     "output_type": "execute_result"
    }
   ],
   "source": [
    "180+45"
   ]
  },
  {
   "cell_type": "code",
   "execution_count": 21,
   "id": "83c4a5bf-375b-4627-b63c-854eb15e7f83",
   "metadata": {},
   "outputs": [
    {
     "name": "stdout",
     "output_type": "stream",
     "text": [
      "5 -5 10 0\n"
     ]
    },
    {
     "data": {
      "image/png": "[encoded data removed]",
      "text/plain": [
       "<Figure size 640x480 with 1 Axes>"
      ]
     },
     "metadata": {},
     "output_type": "display_data"
    }
   ],
   "source": [
    "map, rad = gradient_descent(contour, ind, 10, 3)"
   ]
  },
  {
   "cell_type": "code",
   "execution_count": 85,
   "id": "04b0b8b3-fb87-46e5-bda7-93e77e0e6cd3",
   "metadata": {},
   "outputs": [
    {
     "name": "stdout",
     "output_type": "stream",
     "text": [
      "8 0\n",
      "Rastgele seçilen nokta: (0, 8)\n",
      "Merkez noktası: (5, 5)\n",
      "Açı (radyan): 2.601173153319209\n",
      "Açı (derece): 149.03624346792648\n"
     ]
    }
   ],
   "source": [
    "import numpy as np\n",
    "import random\n",
    "import math\n",
    "\n",
    "# Matris boyutları\n",
    "width, height = 10, 10\n",
    "\n",
    "# Matrisin merkezini hesapla\n",
    "center_x, center_y = width // 2, height // 2\n",
    "\n",
    "# Rastgele bir nokta seç\n",
    "random_x = random.randint(0, width-1)\n",
    "random_y = random.randint(0, height-1)\n",
    "print(random_y, random_x)\n",
    "# Seçilen noktanın merkeze göre açısını hesapla (radyan cinsinden)\n",
    "angle_radians = math.atan2(random_y - center_y, random_x - center_x)\n",
    "\n",
    "# Açıyı derece cinsine çevir\n",
    "angle_degrees = math.degrees(angle_radians)\n",
    "\n",
    "print(f\"Rastgele seçilen nokta: ({random_x}, {random_y})\")\n",
    "print(f\"Merkez noktası: ({center_x}, {center_y})\")\n",
    "print(f\"Açı (radyan): {angle_radians}\")\n",
    "print(f\"Açı (derece): {angle_degrees}\")\n"
   ]
  },
  {
   "cell_type": "code",
   "execution_count": 78,
   "id": "dba5ce97-b8a8-406a-88db-6719027bd41e",
   "metadata": {},
   "outputs": [
    {
     "data": {
      "text/plain": [
       "-45.0"
      ]
     },
     "execution_count": 78,
     "metadata": {},
     "output_type": "execute_result"
    }
   ],
   "source": [
    "math.degrees(math.atan(5/-5))"
   ]
  },
  {
   "cell_type": "code",
   "execution_count": 164,
   "id": "5d255e57-599a-4192-bad0-cadcf80f6a38",
   "metadata": {},
   "outputs": [
    {
     "data": {
      "text/plain": [
       "135.0"
      ]
     },
     "execution_count": 164,
     "metadata": {},
     "output_type": "execute_result"
    }
   ],
   "source": [
    "import numpy as np\n",
    "\n",
    "# Sample 2D matrix\n",
    "matrix = np.array([\n",
    "    [1, 1, 3],\n",
    "    [1, 2, 1],\n",
    "    [1, 1, 0]\n",
    "])\n",
    "\n",
    "# Step 1: Find the index of the smallest value\n",
    "y, x = np.unravel_index(np.argmin(matrix), matrix.shape)\n",
    "\n",
    "# Step 2: Calculate the center point\n",
    "length, width = matrix.shape\n",
    "center_y, center_x = length // 2, width // 2\n",
    "\n",
    "# Step 3: Calculate the angle in radians\n",
    "delta_y = y - center_y\n",
    "delta_x = x - center_x\n",
    "# Adjust calculation to make north 0 degrees and increase clockwise\n",
    "# Swap delta_y and delta_x and invert delta_x to rotate our reference frame\n",
    "angle_radians_adjusted = np.arctan2(delta_x, -delta_y)\n",
    "\n",
    "# Convert angle from radians to degrees\n",
    "angle_degrees_adjusted = np.degrees(angle_radians_adjusted)\n",
    "\n",
    "# Ensure angle is positive and in the range [0, 360)\n",
    "angle_degrees_adjusted = angle_degrees_adjusted % 360\n",
    "\n",
    "angle_degrees_adjusted"
   ]
  },
  {
   "cell_type": "code",
   "execution_count": 87,
   "id": "33060523-81ee-4d58-81c8-282d93891ccc",
   "metadata": {},
   "outputs": [
    {
     "data": {
      "text/plain": [
       "135"
      ]
     },
     "execution_count": 87,
     "metadata": {},
     "output_type": "execute_result"
    }
   ],
   "source": [
    "90+45"
   ]
  },
  {
   "cell_type": "code",
   "execution_count": 33,
   "id": "c58b2d12-7561-43ff-9e4f-058d7fc7a163",
   "metadata": {},
   "outputs": [
    {
     "data": {
      "text/plain": [
       "135.0"
      ]
     },
     "execution_count": 33,
     "metadata": {},
     "output_type": "execute_result"
    }
   ],
   "source": [
    "np.rad2deg(np.arctan2(5, -5))"
   ]
  },
  {
   "cell_type": "code",
   "execution_count": 252,
   "id": "ff2e62ef",
   "metadata": {},
   "outputs": [],
   "source": [
    "def pos_to_ind(lon, lat, your_pos):\n",
    "    y = np.argmin(abs(test.lon[:, 0] - your_pos[\"iha_boylam\"]))\n",
    "    x = np.argmin(abs(test.lat[0, :] - your_pos[\"iha_enlem\"]))\n",
    "    return (y, x)\n",
    "\n",
    "def gradient_descent(matrix, start_point, window_size, kernel_size):\n",
    "    window = matrix[start_point[0]-window_size:start_point[0]+window_size, start_point[1]-window_size:start_point[1]+window_size:]\n",
    "    y, x = np.unravel_index(np.argmin(window), window.shape)\n",
    "    length, width = window.shape\n",
    "    center_y, center_x = length // 2, width // 2\n",
    "    delta_y = y - center_y\n",
    "    delta_x = x - center_x\n",
    "    # Adjust calculation to make north 0 degrees and increase clockwise\n",
    "    # Swap delta_y and delta_x and invert delta_x to rotate our reference frame\n",
    "    angle_radians_adjusted = np.arctan2(delta_x, delta_y)\n",
    "    angle_degrees_adjusted = np.degrees(angle_radians_adjusted)\n",
    "    return angle_degrees_adjusted % 360\n",
    "    "
   ]
  },
  {
   "cell_type": "code",
   "execution_count": 250,
   "id": "441fd4ee-25e7-4b1e-be4a-265e6d5e207d",
   "metadata": {},
   "outputs": [
    {
     "name": "stdout",
     "output_type": "stream",
     "text": [
      "(20, 20)\n"
     ]
    },
    {
     "data": {
      "text/plain": [
       "225.0"
      ]
     },
     "execution_count": 250,
     "metadata": {},
     "output_type": "execute_result"
    },
    {
     "data": {
      "image/png": "[encoded data removed]",
      "text/plain": [
       "<Figure size 640x480 with 1 Axes>"
      ]
     },
     "metadata": {},
     "output_type": "display_data"
    }
   ],
   "source": [
    "gradient_descent(contour, ind, 10, 3)"
   ]
  },
  {
   "cell_type": "code",
   "execution_count": 234,
   "id": "a5facbf2-c144-47a7-9d6d-4902d4bc88ab",
   "metadata": {},
   "outputs": [
    {
     "data": {
      "text/plain": [
       "<matplotlib.contour.QuadContourSet at 0x29eb2eff3d0>"
      ]
     },
     "execution_count": 234,
     "metadata": {},
     "output_type": "execute_result"
    },
    {
     "data": {
      "image/png": "[encoded data removed]",
      "text/plain": [
       "<Figure size 640x480 with 1 Axes>"
      ]
     },
     "metadata": {},
     "output_type": "display_data"
    }
   ],
   "source": [
    "plt.contourf(matrix)"
   ]
  },
  {
   "cell_type": "code",
   "execution_count": 215,
   "id": "cd7725a8-a4cf-42c2-b82f-58e106fdea16",
   "metadata": {},
   "outputs": [
    {
     "name": "stdout",
     "output_type": "stream",
     "text": [
      "[[1 0 3]\n",
      " [1 2 1]\n",
      " [1 1 1]]\n"
     ]
    },
    {
     "data": {
      "text/plain": [
       "0.0"
      ]
     },
     "execution_count": 215,
     "metadata": {},
     "output_type": "execute_result"
    }
   ],
   "source": [
    "gradient_descent(matrix, (1, 1), 4, 3)"
   ]
  }
 ],
 "metadata": {
  "kernelspec": {
   "display_name": "Python 3 (ipykernel)",
   "language": "python",
   "name": "python3"
  },
  "language_info": {
   "codemirror_mode": {
    "name": "ipython",
    "version": 3
   },
   "file_extension": ".py",
   "mimetype": "text/x-python",
   "name": "python",
   "nbconvert_exporter": "python",
   "pygments_lexer": "ipython3",
   "version": "3.9.17"
  }
 },
 "nbformat": 4,
 "nbformat_minor": 5
}
