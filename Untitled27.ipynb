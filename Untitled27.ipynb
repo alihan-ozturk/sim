{
 "cells": [
  {
   "cell_type": "code",
   "execution_count": 307,
   "id": "195f7ec2-ffca-4f8f-8746-4ff893621b20",
   "metadata": {},
   "outputs": [],
   "source": [
    "import numpy as np\n",
    "import matplotlib.pyplot as plt\n",
    "from collections import deque\n",
    "from matplotlib import colors\n",
    "from IPython.display import clear_output\n",
    "import time"
   ]
  },
  {
   "cell_type": "code",
   "execution_count": 308,
   "id": "3577d1e3-14f0-4265-bf42-7db5bfef5b6f",
   "metadata": {},
   "outputs": [],
   "source": [
    "class env:\n",
    "    def __init__(self, id):\n",
    "        self.id = id\n",
    "\n",
    "    def forward(self, payload):\n",
    "        assert self.id == payload[\"takim_numarasi\"]\n",
    "        payload[\"iha_yonelme\"] += np.random.randint(-20, 21)\n",
    "        rad = np.deg2rad(payload[\"iha_yonelme\"])\n",
    "        vx = abs(np.random.normal(0, 0.05))\n",
    "        vy = abs(np.random.normal(0, 0.05))\n",
    "        \n",
    "        payload[\"iha_enlem\"] += np.random.normal(0, 0.001) + vx * np.sin(rad)\n",
    "        payload[\"iha_boylam\"] += np.random.normal(0, 0.001)  + vy * np.cos(rad)\n",
    "        payload[\"iha_irtifa\"] += np.random.normal(0, 0.1)\n",
    "        \n",
    "        payload[\"iha_dikilme\"] += np.random.normal(0, 0.1)\n",
    "        payload[\"iha_yatis\"] += np.random.normal(0, 0.1)\n",
    "        \n",
    "        payload[\"zaman_farki\"] += np.random.normal(0, 0.1)\n",
    "        return payload"
   ]
  },
  {
   "cell_type": "code",
   "execution_count": 309,
   "id": "4af34c88-ad71-4871-be28-3d212ef9416e",
   "metadata": {},
   "outputs": [],
   "source": [
    "def plot_arrow(pos):\n",
    "    rad = np.deg2rad(pos[\"iha_yonelme\"])\n",
    "    arrow_end_x = pos[\"iha_enlem\"] + 0.1 * np.sin(rad)\n",
    "    arrow_end_y = pos[\"iha_boylam\"] + 0.1 * np.cos(rad)\n",
    "    plt.arrow(pos[\"iha_enlem\"], pos[\"iha_boylam\"], arrow_end_x - pos[\"iha_enlem\"], arrow_end_y - pos[\"iha_boylam\"], \n",
    "          head_width=0.03, head_length=0.05, fc='red', ec='red')\n",
    "\n",
    "def plot_text(your_pos, pos):\n",
    "    if your_pos[\"iha_irtifa\"] == pos[\"iha_irtifa\"]:\n",
    "        p = \"\"\n",
    "    elif your_pos[\"iha_irtifa\"] < pos[\"iha_irtifa\"]:\n",
    "        p = \" +\"\n",
    "    else:\n",
    "        p = \" -\"\n",
    "    plt.text(pos[\"iha_enlem\"], pos[\"iha_boylam\"], str(pos[\"takim_numarasi\"])+p)\n",
    "\n",
    "def plot_point(pos_array):\n",
    "    for pos in pos_array:\n",
    "        plt.plot(pos[0], pos[1], 'ro')\n",
    "\n",
    "def plot_line(pos_array):\n",
    "    pos_array = np.array(pos_array)\n",
    "    plt.plot(pos_array[:, 0], pos_array[:, 1])"
   ]
  },
  {
   "cell_type": "code",
   "execution_count": 324,
   "id": "fc699c56-4ca2-4383-9e6a-ebc8667d0179",
   "metadata": {},
   "outputs": [
    {
     "data": {
      "text/plain": [
       "19.0"
      ]
     },
     "execution_count": 324,
     "metadata": {},
     "output_type": "execute_result"
    }
   ],
   "source": [
    "2//000.1"
   ]
  },
  {
   "cell_type": "code",
   "execution_count": 328,
   "id": "bf80e43f-792a-4438-bc45-a30ff418ac63",
   "metadata": {},
   "outputs": [],
   "source": [
    "class generate_map:\n",
    "    \n",
    "    def __init__(self, id, lat_range, lon_range, points):\n",
    "        self.id = id\n",
    "        self.std_dev = 1\n",
    "        self.lat_range = lat_range\n",
    "        self.lon_range = lon_range\n",
    "        y = np.linspace(lat_range[0], lat_range[1], int((lat_range[1]-lat_range[0])/0.01))\n",
    "        x = np.linspace(lon_range[0], lon_range[1], int((lon_range[1]-lon_range[0])/0.01))\n",
    "        \n",
    "        self.lat, self.lon = np.meshgrid(y, x)\n",
    "        self.contour = np.zeros(self.lat.shape)\n",
    "        self.cache = dict()\n",
    "\n",
    "\n",
    "        n = 10\n",
    "        for i in range(n):\n",
    "            self.contour[i, i:-i-1] = 1/(i+1)\n",
    "            self.contour[-(1+i), i:-i] = 1/(i+1)\n",
    "            self.contour[i:-i-1, i] = 1/(i+1)\n",
    "            self.contour[i:-i-1, -(1+i)] = 1/(i+1)\n",
    "        self.contour[-1] = 1\n",
    "        \n",
    "        \n",
    "        for (x, y) in points:\n",
    "            self.contour += np.exp(-((self.lat-x)**2 + (self.lon-y)**2) / (2 * self.std_dev))\n",
    "\n",
    "        self.contour = np.clip(self.contour, -1, 1)\n",
    "\n",
    "\n",
    "\n",
    "    def update(self, telem):\n",
    "        contour = self.contour.copy()\n",
    "        for pos in telem[\"konumBilgileri\"]:\n",
    "            self.history(pos)\n",
    "            if pos[\"takim_numarasi\"] != self.id:\n",
    "                contour -= np.exp(-((self.lat-pos[\"iha_enlem\"])**2 + (self.lon-pos[\"iha_boylam\"])**2) / (2 * self.std_dev/2)) \n",
    "            else:\n",
    "                your_pos = pos\n",
    "        return contour, your_pos\n",
    "\n",
    "    def history(self, pos):\n",
    "        if pos[\"takim_numarasi\"] not in self.cache:\n",
    "            self.cache[pos[\"takim_numarasi\"]] = deque([[pos[\"iha_enlem\"], pos[\"iha_boylam\"]]], maxlen=10)\n",
    "        else:\n",
    "            self.cache[pos[\"takim_numarasi\"]].append([pos[\"iha_enlem\"], pos[\"iha_boylam\"]])"
   ]
  },
  {
   "cell_type": "code",
   "execution_count": 329,
   "id": "e5c94c71-1e0f-4e1c-a9d4-b8c70d3aa8d0",
   "metadata": {},
   "outputs": [],
   "source": [
    "def is_within_trim_distance(pos1, pos2, trim):\n",
    "    return abs(pos2[\"iha_enlem\"] - pos1[\"iha_enlem\"]) < trim and abs(pos2[\"iha_boylam\"] - pos1[\"iha_boylam\"]) < trim\n",
    "\n",
    "def is_within_test_range(pos, lat_range, lon_range):\n",
    "    return lat_range[0] < pos[\"iha_enlem\"] < lat_range[1] and lon_range[0] < pos[\"iha_boylam\"] < lon_range[1]\n",
    "\n",
    "def should_plot(pos, your_pos, env, trim):\n",
    "    within_trim_distance = trim != 0 and is_within_trim_distance(pos, your_pos, trim)\n",
    "    within_test_range = trim == 0 and is_within_test_range(pos, env.lat_range, env.lon_range)\n",
    "    return within_test_range or within_trim_distance"
   ]
  },
  {
   "cell_type": "code",
   "execution_count": null,
   "id": "045f3115-ef5a-4661-ad93-48c9fdc770ca",
   "metadata": {},
   "outputs": [
    {
     "data": {
      "image/png": "[encoded data removed]",
      "text/plain": [
       "<Figure size 1000x600 with 2 Axes>"
      ]
     },
     "metadata": {},
     "output_type": "display_data"
    }
   ],
   "source": [
    "uav1 = env(1)\n",
    "uav2 = env(2)\n",
    "uav3 = env(3)\n",
    "payload1 = {\n",
    "            \"takim_numarasi\": 1,\n",
    "            \"iha_enlem\": 41.236945,\n",
    "            \"iha_boylam\": 26.945331,\n",
    "            \"iha_irtifa\": 25,\n",
    "            \"iha_dikilme\": 200,\n",
    "            \"iha_yonelme\": 270,\n",
    "            \"iha_yatis\": 0,\n",
    "            \"zaman_farki\": 93\n",
    "        }\n",
    "\n",
    "\n",
    "payload2 = {\n",
    "            \"takim_numarasi\": 2,\n",
    "            \"iha_enlem\": 41.265854,\n",
    "            \"iha_boylam\": 25.697435,\n",
    "            \"iha_irtifa\": 25,\n",
    "            \"iha_dikilme\": 5,\n",
    "            \"iha_yonelme\": 256,\n",
    "            \"iha_yatis\": 0,\n",
    "            \"zaman_farki\": 74\n",
    "        }\n",
    "\n",
    "\n",
    "payload3 = {\n",
    "            \"takim_numarasi\": 3,\n",
    "            \"iha_enlem\": 41.598546,\n",
    "            \"iha_boylam\": 26.974315,\n",
    "            \"iha_irtifa\": 25,\n",
    "            \"iha_dikilme\": 5,\n",
    "            \"iha_yonelme\": 12,\n",
    "            \"iha_yatis\":4,\n",
    "            \"zaman_farki\": 43\n",
    "        }\n",
    "\n",
    "test = generate_map(1, [39, 44], [25, 28], [(40.5, 25)])\n",
    "trim = 0\n",
    "for i in range(100):\n",
    "    payload1 = uav1.forward(payload1)\n",
    "    payload2 = uav2.forward(payload2)\n",
    "    payload3 = uav3.forward(payload3)\n",
    "    \n",
    "    telem = {\"sunucuSaati\": {\n",
    "        \"saat\": 6,\n",
    "        \"dakika\": 53,\n",
    "        \"saniye\": 42,\n",
    "        \"milisaniye\": 500\n",
    "    }, \"konumBilgileri\" : [payload1, payload2, payload3]}\n",
    "\n",
    "    \n",
    "    contour, your_pos = test.update(telem)\n",
    "    clear_output(wait=True)\n",
    "    \n",
    "    plt.figure(figsize=((np.array(contour.shape[::-1])//50).tolist()))\n",
    "    cp = plt.contourf(test.lat, test.lon, contour, cmap='coolwarm', levels=25)\n",
    "    plt.colorbar(cp)\n",
    "    for pos in telem[\"konumBilgileri\"]:\n",
    "        if should_plot(pos, your_pos, test, trim):\n",
    "            plot_text(your_pos, pos)\n",
    "            plot_line(test.cache[pos[\"takim_numarasi\"]])\n",
    "            plot_arrow(pos)\n",
    "    if trim:\n",
    "        plt.xlim(your_pos[\"iha_enlem\"]-trim, your_pos[\"iha_enlem\"]+trim)\n",
    "        plt.ylim(your_pos[\"iha_boylam\"]-trim, your_pos[\"iha_boylam\"]+trim)\n",
    "    plt.show()\n",
    "    \n",
    "    time.sleep(1)"
   ]
  },
  {
   "cell_type": "code",
   "execution_count": 355,
   "id": "3a4f32d9-46c0-429e-b883-d919d33671a6",
   "metadata": {},
   "outputs": [
    {
     "data": {
      "text/plain": [
       "[5, 2]"
      ]
     },
     "execution_count": 355,
     "metadata": {},
     "output_type": "execute_result"
    }
   ],
   "source": [
    "(np.array(contour.shape[::-1])//100).tolist()"
   ]
  },
  {
   "cell_type": "code",
   "execution_count": 247,
   "id": "4a72388a-1d26-43b3-b668-254e9024662a",
   "metadata": {},
   "outputs": [
    {
     "data": {
      "text/plain": [
       "{'takim_numarasi': 1,\n",
       " 'iha_enlem': 40.81850364031783,\n",
       " 'iha_boylam': 25.06080041363392,\n",
       " 'iha_irtifa': 25.271262719370462,\n",
       " 'iha_dikilme': 200.05827107617674,\n",
       " 'iha_yonelme': 49,\n",
       " 'iha_yatis': 0.3377754065300141,\n",
       " 'zaman_farki': 93.39501170685084}"
      ]
     },
     "execution_count": 247,
     "metadata": {},
     "output_type": "execute_result"
    }
   ],
   "source": [
    "your_pos"
   ]
  },
  {
   "cell_type": "code",
   "execution_count": 248,
   "id": "0c827d3e-14c2-4344-aada-e76a873075ca",
   "metadata": {},
   "outputs": [
    {
     "data": {
      "text/plain": [
       "array([[39.        , 39.02512563, 39.05025126, ..., 43.94974874,\n",
       "        43.97487437, 44.        ],\n",
       "       [39.        , 39.02512563, 39.05025126, ..., 43.94974874,\n",
       "        43.97487437, 44.        ],\n",
       "       [39.        , 39.02512563, 39.05025126, ..., 43.94974874,\n",
       "        43.97487437, 44.        ],\n",
       "       ...,\n",
       "       [39.        , 39.02512563, 39.05025126, ..., 43.94974874,\n",
       "        43.97487437, 44.        ],\n",
       "       [39.        , 39.02512563, 39.05025126, ..., 43.94974874,\n",
       "        43.97487437, 44.        ],\n",
       "       [39.        , 39.02512563, 39.05025126, ..., 43.94974874,\n",
       "        43.97487437, 44.        ]])"
      ]
     },
     "execution_count": 248,
     "metadata": {},
     "output_type": "execute_result"
    }
   ],
   "source": []
  }
 ],
 "metadata": {
  "kernelspec": {
   "display_name": "Python 3 (ipykernel)",
   "language": "python",
   "name": "python3"
  },
  "language_info": {
   "codemirror_mode": {
    "name": "ipython",
    "version": 3
   },
   "file_extension": ".py",
   "mimetype": "text/x-python",
   "name": "python",
   "nbconvert_exporter": "python",
   "pygments_lexer": "ipython3",
   "version": "3.9.17"
  }
 },
 "nbformat": 4,
 "nbformat_minor": 5
}
